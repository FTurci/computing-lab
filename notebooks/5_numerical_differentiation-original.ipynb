{
 "cells": [
  {
   "cell_type": "markdown",
   "metadata": {},
   "source": [
    "# 5 Numerical differentiation  and rounding errors.\n",
    "\n",
    "So far we have demonstrated the use of python for numerical integration and plotting functions.\n",
    "\n",
    "In this notebook you will learn how to:\n",
    "\n",
    "- carry out simple numerical differentation,\n",
    "- the importance of selecting the best algorithm,\n",
    "- make estimates of errors,\n",
    "- recognise the perils of trying to get precision by brute force.\n",
    "\n",
    "## 5.1 Numerical differentiation\n",
    "\n",
    "__NOTE.__ Although this notebook shows you the principles by which you can do numerical differentiation, it is something you should avoid if you can. Whenever, you can code an analytical differential you should do so. \n",
    "\n",
    "### 5.1.1 Forward and backward difference methods\n",
    "\n",
    "You may remember that when you were introduced to calculus you defined the differential of a function as,\n",
    "\n",
    "$\\frac{df(x)}{dx} = \\lim_{\\delta x \\to 0} \\frac{f(x)-f(x+\\delta x)}{\\delta x}$, where, without going into detail $f(x)$ has to be differentiable. For example, if $f(x)=x^2$ we find\n",
    "\n",
    "$\\frac{df(x)}{dx} = \\lim_{\\delta x \\to 0} \\frac{x^2 - (x+\\delta x)^2}{\\delta x}$\n",
    "$ = \\lim_{\\delta x \\to 0} \\frac{x^2 - x^2 +2x\\delta x+ (\\delta x)^2}{\\delta x}$\n",
    "$ = \\lim_{\\delta x \\to 0} \\frac{2x \\delta x +(\\delta x)^2}{\\delta x}$\n",
    "$ = 2x $\n",
    "\n",
    "In order to carry out numerical differentiation (or integration as we done already) we need to make one step back as there is no way we can take the step $\\delta x \\to 0$. We will therefore write:\n",
    "\n",
    "$\\frac{df(x)}{dx} \\simeq \\frac{f(x)-f(x+\\Delta x)}{\\Delta x}$ where $\\Delta x$ is a small but finite (discrete) number. The smaller we can make $\\Delta x$ the more closely we approximate $\\frac{df}{dx}$. \n",
    "\n",
    "A problem we have with this method is we don't have any idea how the size of $\\Delta x$ affects the accuracy in which we can determine $\\frac{df}{dx}$. We also don't know how small we can make $\\Delta x$ in our calculations. We can however do better if we consider Taylor's expansion that is a formal result from calculus.\n",
    "\n",
    "$f(x+\\Delta x)=f(x)+\\Delta x f'(x)+ \\frac{\\Delta x^2}{2!} f''(x)+ ...$.     [Equation (1)]\n",
    "\n",
    "where we have written $\\frac{df}{dx} =f'$ etc. Re-arranging this we can write\n",
    "\n",
    "$f'(x) \\simeq \\frac{1}{\\Delta x}[f(x+\\Delta x) -f(x) - \\frac{\\Delta x^2}{2!} f''(x) + ...]      $.    [Equation (2)]\n",
    "\n",
    "or\n",
    "$f'(x) \\simeq \\frac{1}{\\Delta x}[f(x+\\Delta x) -f(x) - E(\\Delta x) + ...]$\n",
    "\n",
    "where $E(\\Delta x) =\\frac{\\Delta x^2}{2!} f''(x) + ...$\n",
    "\n",
    "From $E$ we can then see that the error in our approximation of $f'(x)$ is of the order $\\Delta x$.\n",
    "\n",
    "We  could equally well have written, using the Taylor expansion of $f(x- \\Delta x)$ \n",
    "\n",
    "$f(x-\\Delta x)=f(x)-\\Delta x f'(x)+ \\frac{\\Delta x^2}{2!} f''(x)+ ...$.     [Equation (3)]\n",
    "\n",
    "so that\n",
    "\n",
    "$f'(x) \\simeq \\frac{1}{\\Delta x}[f(x) -f(x-\\Delta x) + \\frac{\\Delta x^2}{2!} f''(x) + ...]       $  [Equation 4]\n",
    "\n",
    "Equations 2 & 4 are both valid and are known as the  _forward_ and _backward_ difference methods and as you can see they will both have th same error estimator (order $\\Delta x$). \n",
    " \n",
    " ### 5.1.2 Central difference methods\n",
    " \n",
    " An alternative representation of numerical difference is to subtract equation [3] from equation [1] from which we obtain the result\n",
    " \n",
    " $f'(x) = \\frac{f(x+\\Delta x)-f(x -\\Delta x)}{2\\Delta x} + E(\\Delta x)$\n",
    " \n",
    " This is known as the _central_ difference method. \n",
    " \n",
    " However, we also find that the $\\frac{\\Delta x^2}{2!} f''(x)$ term in the error term cancels in this expression so that the error term is of the order $(\\Delta x)^2$ rather than $\\Delta x$. Hence the _central_ difference method is considerably more accurate for a given $\\Delta x$ and this method and would be used in preference.\n",
    " \n",
    " Let's see how this works in a bit of code. The function we are differentiating is $f(x) = x^3+5x^2+3$ so $f'(x) =3x^2+10x$. $f(x)$ is defined in the code as a function and can be easily changed if required. Input different values of x and compare your numerical results by the different methods with the analytical result. Note also in the code where we have defined the value of $\\Delta x$ we are using."
   ]
  },
  {
   "cell_type": "code",
   "execution_count": 4,
   "metadata": {},
   "outputs": [
    {
     "name": "stdout",
     "output_type": "stream",
     "text": [
      "Enter xval =>1\n",
      "For delta x =  0.01\n",
      "df/dx (central difference) at x =  1.0  =  13.000100000000003\n",
      "df/dx (forward difference) at x =  1.0  =  13.080099999999995\n"
     ]
    }
   ],
   "source": [
    "def f(x):\n",
    "    ans=x**3+5*x**2+4\n",
    "    return(ans)\n",
    "\n",
    "xval = float(input('Enter xval =>'))\n",
    "deltx = 0.01 # Define the value of delta X we will be using. \n",
    "\n",
    "diffx = (f(xval+deltx)-f(xval-deltx))/2/deltx\n",
    "fdiffx = (f(xval+deltx)-f(xval))/deltx\n",
    "\n",
    "print(\"For delta x = \",deltx)\n",
    "print (\"df/dx (central difference) at x = \",xval,\" = \",diffx)\n",
    "print (\"df/dx (forward difference) at x = \",xval,\" = \",fdiffx)\n"
   ]
  },
  {
   "cell_type": "markdown",
   "metadata": {},
   "source": [
    "Experiment with different values of $x$ and changing the definition of $f(x)$ and $\\Delta x$. You should be able to see how much better the result is for the central difference method. \n",
    "\n",
    "You may think you can get better and better estimates by making $\\Delta x$ smaller and smaller. However, ultimately you will run into numerical precision errors as you approach dividing the small number generated from a difference $\\Delta f$ divided by another small number ($\\Delta x$). In the code above try making $\\Delta x$ smaller and smaller (by factors of 10) until you reach $\\Delta x$ = 0.0000000000000001. What do you notice? (NB. you may need to restart the kernel occasionally if you do this). \n",
    "\n",
    "In the code block below write some code to look at $f(x+\\Delta) - f(x)$ and $\\Delta x$ in the code above. This should give you a better understanding of the issue.\n"
   ]
  },
  {
   "cell_type": "code",
   "execution_count": null,
   "metadata": {},
   "outputs": [],
   "source": [
    "# Enter your code to print out the volues df and delta(x)."
   ]
  },
  {
   "cell_type": "markdown",
   "metadata": {},
   "source": [
    "## 5.2 Summary\n",
    "\n",
    "This has been a short notebook but it has contained some important ideas, notably how we can represent differerntials in our numerical programming and the importance in understanding the underlying mathematics properly in order to produce the most accurate results. In general you should avoid numerical differentiation. It is always preferable to use an analytical result for the derivative. \n",
    "\n",
    "In this notebook you have learnt:\n",
    "- how to calculate the derivative of a known 1D function using forward, backward and central difference methods,\n",
    "- learnt how using the central difference method gives a considerably improved accuracy,\n",
    "- see how the errors may be estimated,\n",
    "- see what happens if you try to be too accurate."
   ]
  }
 ],
 "metadata": {
  "kernelspec": {
   "display_name": "Python 3",
   "language": "python",
   "name": "python3"
  },
  "language_info": {
   "codemirror_mode": {
    "name": "ipython",
    "version": 3
   },
   "file_extension": ".py",
   "mimetype": "text/x-python",
   "name": "python",
   "nbconvert_exporter": "python",
   "pygments_lexer": "ipython3",
   "version": "3.8.3"
  }
 },
 "nbformat": 4,
 "nbformat_minor": 4
}
