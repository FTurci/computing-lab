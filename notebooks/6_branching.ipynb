{
 "cells": [
  {
   "cell_type": "markdown",
   "metadata": {},
   "source": [
    "# 6 Controlling programme execution - the 'if' statement\n",
    "\n",
    "In the note books you have used so far you have only seen code that runs smoothly from start to finish. For these you can see, or work out, the exact sequence of instructions that will be carried out once the programme has started to run. However, it is exceedingly common in our numerical methods to control the execution of a programme according to calculations made earlier. In this notebook you will learn how to use to use conditional statements to control the flow of your programme.\n",
    "\n",
    "In this notebook you will learn how to:\n",
    "\n",
    "- use boolean statements to control programme execution,\n",
    "- use the if ... statement to allow alternative code fragments to be executed according to conditions met,\n",
    "- use if ... elif ... else statements,\n",
    "- use nested if statements for more complex programme control. \n",
    "\n",
    "## 6.1 'if '' statements\n",
    "\n",
    "### 6.1.1 Boolean expressions\n",
    "\n",
    "In python a simple 'if' statement has the form\n",
    "\n",
    "if _boolean expression_ : <br> _indented code_\n",
    "\n",
    "What do we mean by a boolean expression? In boolean algebra a result of a calculation may only have one of two answers: 'True' or 'False' (Boolean alegbra underpins the logic used in all digital computers). So, simply put, if the result of our boolean expression is 'True' the indented code following the _if_ statement is executed, otherwise the statement is ignored and the programme resumes at the next unindented line. \n",
    "\n",
    "The code below shows some boolean expressions. Look at carefully and run this code taking care to understand the output of each line. In particular note the form of the boolean operators (i.e. _==_ , _!=_ , _>=_\n",
    "etc)\n",
    "\n"
   ]
  },
  {
   "cell_type": "code",
   "execution_count": 1,
   "metadata": {},
   "outputs": [
    {
     "name": "stdout",
     "output_type": "stream",
     "text": [
      "Check boolean data types,  True <class 'bool'> False <class 'bool'>\n",
      "result of i == j is False\n",
      "result of i == k is True\n",
      "result of i != j is True\n",
      "result of i != k is False\n",
      "result of i > k is False\n",
      "result of i >= k is True\n",
      "result of i <= k is True\n",
      "result of a == b is False\n",
      "result of a < b is False\n",
      "result of a > b is True\n",
      "'yes = N' is False\n",
      "\"yes = Y\" is  True\n"
     ]
    }
   ],
   "source": [
    "correct=True        # Define a boolean data type with value True\n",
    "incorrect=False     # Define a boolean data type with value  False\n",
    "print(\"Check boolean data types, \",correct, type(correct),incorrect,type(incorrect)) # check the data types\n",
    "#\n",
    "# Now lets define some quantities and look a the results of some boolean operators\n",
    "#\n",
    "i=1\n",
    "j=-1\n",
    "k=1\n",
    "a=10.\n",
    "b=-10.\n",
    "yes=\"Y\"\n",
    "no=\"N\"\n",
    "print (\"result of i == j is\",(i==j))                  ## == is boolean 'identically equal to'\n",
    "print (\"result of i == k is\",(i==k))\n",
    "print (\"result of i != j is\",(i!=j))                  ## != is boolean 'not equal to'\n",
    "print (\"result of i != k is\",(i!=k))                   \n",
    "print (\"result of i > k is\",(i>k))                    ## > is boolean 'greater than'\n",
    "print (\"result of i >= k is\",(i>=k))                  ## >= is boolean 'greater than or identically equal to'\n",
    "print (\"result of i <= k is\",(i<=k))                  ## <= is boolean ' less than or identically equal to'\n",
    "print ( \"result of a == b is\",(a==b))\n",
    "print ( \"result of a < b is\",(a < b))                 ## < is boolean 'less than'\n",
    "print ( \"result of a > b is\",(a > b))\n",
    "print (\"'yes = N' is\",(yes==\"N\"))                     ## Note string comparisons are case sensitive \n",
    "print ('\"yes = Y\" is ',(yes==\"Y\"))                    ## Note also how we can include quotes in print statements\n"
   ]
  },
  {
   "cell_type": "markdown",
   "metadata": {},
   "source": [
    "From the above you should now be able to recognise boolean statements. A particular point to note is the difference between for example '<' and '<=' - check you understand the meaning from the results above.\n",
    "\n",
    "Considerable care shoud be taken when using '==', '>=' and '<='. There is no ambiguity when using integer variables, however, these operators, when used with float variables can easily lead to programming errors. See the code snippet below. "
   ]
  },
  {
   "cell_type": "code",
   "execution_count": 2,
   "metadata": {},
   "outputs": [
    {
     "name": "stdout",
     "output_type": "stream",
     "text": [
      "1.2246467991473532e-16\n",
      "False\n"
     ]
    }
   ],
   "source": [
    "from math import *\n",
    "print(sin(pi))\n",
    "print(sin(pi)==0)\n",
    "\n"
   ]
  },
  {
   "cell_type": "markdown",
   "metadata": {},
   "source": [
    "We all know $\\sin(\\pi)=0$ so why is the boolean result false? It is rare, in floating point calculations to obtain perfect equivalence between floating point variables. In this case the rounding errors in calculating $\\sin(\\pi)$ mean the result is not identically equal to zero. \n",
    "\n",
    "__WARNING.__ Avoid making  'identically equal' equivalence tests with floats. If necessary, convert to integer or use composite boolean statements (see below).\n",
    "\n",
    "### 6.1.2 testing and combining boolean expressions.\n",
    "\n",
    "We can use boolean algebra (truth tables etc) to build composite tests for our vairables. To compare boolean expressions we can use the _and_, _or_, _not_ and _^_ operators.  If we consider two boolean numbers A and B then we can understand these operators as follows:\n",
    "\n",
    "The AND operator ( _and_ ) says if both A and B are true then the result is true, else the result is false.\n",
    "\n",
    "The OR operator ( _or_ ) says if both A or B, or both are true then the result is true, else the result is false.\n",
    "\n",
    "The XOR operator ( _^_ ) says if A or B are different, the result is true, if they are the same the result is false\n",
    "\n",
    "The NOT operator ( _not_ ) changes boolean value of a variable to its opposite (i.e. true to false, or false to true.)\n",
    "\n",
    "Note also the operator precedence for boolean operators, if in doubt use brackets.\n",
    "\n",
    "Look at the code snippet below and confirm you understand the output. (These are effective truth tables)"
   ]
  },
  {
   "cell_type": "code",
   "execution_count": 3,
   "metadata": {},
   "outputs": [
    {
     "name": "stdout",
     "output_type": "stream",
     "text": [
      "T AND F is False\n",
      "T AND T is True\n",
      "F AND F is False\n",
      "T OR F is True\n",
      "T OR T is True\n",
      "F OR F is False\n",
      "T AND (NOT F) is True\n",
      "T AND (NOT T) is False\n",
      "T OR (NOT F) is True\n",
      "T OR (NOT T) is True\n",
      "T XOR T is False\n",
      "T XOR F is True\n",
      "F XOR F is False\n"
     ]
    }
   ],
   "source": [
    "T=True\n",
    "F=False\n",
    "print (\"T AND F is\",(T and F))\n",
    "print (\"T AND T is\",(T and T))\n",
    "print (\"F AND F is\",(F and F))\n",
    "print (\"T OR F is\",(T or F))\n",
    "print (\"T OR T is\",(T or T))\n",
    "print (\"F OR F is\",(F or F))\n",
    "print (\"T AND (NOT F) is\",(T and not(F)))\n",
    "print (\"T AND (NOT T) is\",(T and not(T)))\n",
    "print (\"T OR (NOT F) is\",(T or not(F)))\n",
    "print (\"T OR (NOT T) is\",(T or not(T)))\n",
    "print (\"T XOR T is\",(T ^ T))\n",
    "print (\"T XOR F is\",(T ^ F))\n",
    "print (\"F XOR F is\",(F ^ F))\n",
    "       "
   ]
  },
  {
   "cell_type": "markdown",
   "metadata": {},
   "source": [
    "### 6.1.3 the simple 'if' statement\n",
    "\n",
    "in 6.1.1 we stated that the 'if statement has the form,\n",
    "\n",
    "if _boolean expression_ : <br> _if true execute indented code_\n",
    "\n",
    "Now we know what we mean by a boolean expression we see how the 'if' statement works. Simply put, if I carry out a boolean test, then if the result is True I execute the indented code after the if statement, if it is False I ignore it and resume execution after the indented code. \n",
    "\n",
    "Look and read carefully the code snippet below and then execute it. "
   ]
  },
  {
   "cell_type": "code",
   "execution_count": 12,
   "metadata": {},
   "outputs": [
    {
     "name": "stdout",
     "output_type": "stream",
     "text": [
      "square root of a*b is  2.449489742783178\n"
     ]
    }
   ],
   "source": [
    "from math import *\n",
    "a=2.0      \n",
    "b=3.0\n",
    "c=-3.0\n",
    "\n",
    "if a*b >= 0:              #\n",
    "    print(\"square root of a*b is \",sqrt(a*b))\n",
    "if a*c >= 0:\n",
    "    print(sqrt(a*c))    # as the product a*c is negative this line will not be executed\n",
    "    \n",
    "#print(sqrt(a*c))         # the programme will crash with an error oif we don't do this test."
   ]
  },
  {
   "cell_type": "markdown",
   "metadata": {},
   "source": [
    "This is an example of a common test we may wish to execute in a programme. Here we want to find the square root of the product of two numbers. However, if the product is a negative number our programme will stop with an error message (uncomment the last statement to see what error is produced). In the example above we can see how we can test for a negative number and allow the programme to continue. Of course, we need to decide what we are going to do if we find a negative number.\n",
    "\n",
    "Look and read carefully the code snippet below,"
   ]
  },
  {
   "cell_type": "code",
   "execution_count": 13,
   "metadata": {},
   "outputs": [
    {
     "name": "stdout",
     "output_type": "stream",
     "text": [
      "value of a was  1.2246467991473532e-16\n",
      "We have now set the value of a to zero 0.0\n"
     ]
    }
   ],
   "source": [
    "from math import *\n",
    "a = sin(pi)\n",
    "if a < 1e-10 and a > -1.0e-10 :\n",
    "    print (\"value of a was \",a )\n",
    "    a=0.0\n",
    "    print(\"We have now set the value of a to zero\",a) \n"
   ]
  },
  {
   "cell_type": "markdown",
   "metadata": {},
   "source": [
    "Note how this solves our problem in floating point arithmetic to check if our variable is zero (or close enough to zero) to be used further in our calculation. \n",
    "\n",
    "Hence, if you know how to do a boolean test you know how to use the 'if' statement.\n",
    "\n",
    "### 6.1.4 the if ... else statement\n",
    "\n",
    "The _if_ statement is all well and good but suppose we wish to execute different bits of code according to whether our boolean expression is true or false. This is easly solved by the extension of the _if_ statement to include an _else_ statement as follows\n",
    "\n",
    "if _boolean expression_ :\n",
    "\n",
    "_indented code_\n",
    "\n",
    "else:\n",
    "\n",
    "_indented code_\n",
    "\n",
    "Look at and run the code fragment below to see how this works."
   ]
  },
  {
   "cell_type": "code",
   "execution_count": 17,
   "metadata": {},
   "outputs": [
    {
     "name": "stdout",
     "output_type": "stream",
     "text": [
      "I can't find the square root the negative number -6.0\n",
      "End of calculation\n"
     ]
    }
   ],
   "source": [
    "from math import *\n",
    "a=2.0\n",
    "b=-3.0\n",
    "c=a*b\n",
    "if c > 0:\n",
    "    c=sqrt(c)\n",
    "    print(\"square root of a*b is\",c)\n",
    "else: \n",
    "    print(\"I can't find the square root the negative number\", c)\n",
    "    \n",
    "print (\"End of calculation\")"
   ]
  },
  {
   "cell_type": "markdown",
   "metadata": {},
   "source": [
    "__Hint.__ It is very easy to forget the colon on both the _if_ and the _else_ statement. If you have errors when writing your code it is often a good idea to check for this simple omission.\n",
    "\n",
    "We can now see that whatever the result of the boolean statement, we can run some code for the case when the statement was true _and_ also when it is false. The programme continues after the indented code after the 'else' statement. You might modify the code above to make _b_ positive to see how the execution of the code depends on the sign of _c_. Note, that there is no boolean statement associated with the _else_ line.\n",
    "\n",
    "__Note.__ Some programmers advocate that, for clarity, an else statement should always be included, even it is followed by a null statement.\n",
    "\n",
    "### 6.1.5 the if ... elif ... else  statement\n",
    "\n",
    "The _if_ statement can be extended by adding further boolean tests with the _elif:_ line. This stands for 'else if' and allows you to test sequentially with a series of boolean tests. The _elif_ line must be followed by a boolean statement after which the following indented code is executed if it is true. If it is false the programme moves to the next _elif:_ or final _else:_ line. It is important to realise that once the programme comes to first test with a true answer, then no further tests in the _if: - elsif: - else:_ block are executed.\n",
    "\n",
    "Look at carefully run the following code fragment to see how this works\n"
   ]
  },
  {
   "cell_type": "code",
   "execution_count": 18,
   "metadata": {},
   "outputs": [
    {
     "name": "stdout",
     "output_type": "stream",
     "text": [
      "i is equal to two\n",
      "End of programme\n"
     ]
    }
   ],
   "source": [
    "i=2\n",
    "if i==0:\n",
    "    print(\"i is equal to zero\")\n",
    "elif i==1 :\n",
    "    print(\"i is equal to one\")\n",
    "elif i==2 :\n",
    "    print(\"i is equal to two\")\n",
    "elif i==3 :\n",
    "    print(\"i is equal to three\")\n",
    "elif i < 5 :\n",
    "    print(\"i is less than 5\")  # note although i is less than 5, this line is not executed as the if block termiated when\n",
    "                               # the condition i==2 was met. \n",
    "else:\n",
    "    print (\"i is greater than three\")\n",
    "    \n",
    "    \n",
    "print (\"End of programme\")\n"
   ]
  },
  {
   "cell_type": "markdown",
   "metadata": {},
   "source": [
    "Try changing the value of _i_ in the code above and confirm you understand how it works. You can note again that as in the simple _if_ statement it is not necessary for the last statement to be an _else:_ line. However, again for clarity is often recommended that it is included. \n",
    "\n",
    "Look carefully and run the code fragment below."
   ]
  },
  {
   "cell_type": "code",
   "execution_count": 8,
   "metadata": {},
   "outputs": [
    {
     "name": "stdout",
     "output_type": "stream",
     "text": [
      "i is less than or equal to 2\n",
      "End of programme\n"
     ]
    }
   ],
   "source": [
    "i=1\n",
    "if i==0:\n",
    "    print(\"i is equal to zero\")\n",
    "elif i <= 2 :\n",
    "    print(\"i is less than or equal to 2\")\n",
    "elif i==1 :\n",
    "    print(\"i is equal to one\")\n",
    "elif i==3 :\n",
    "    print(\"i is equal to three\")\n",
    "else:\n",
    "    print (\"i is greater than three\")\n",
    "    \n",
    "    \n",
    "print (\"End of programme\")"
   ]
  },
  {
   "cell_type": "markdown",
   "metadata": {},
   "source": [
    "when you run this code the line print(\"i is equal to 1\") is never executed as the if statement has already found the statement i <= 2 is true so that execution moves onto the next executable unindented line.\n",
    "\n",
    "### 6.1.5 nested 'if' statements\n",
    "\n",
    "As for the case of for loops it is possible to 'nest' if statements. \n",
    "\n",
    "Look carefully at and run the code fragment below. Try changing _i_ and _j_ to see how it works."
   ]
  },
  {
   "cell_type": "code",
   "execution_count": 9,
   "metadata": {},
   "outputs": [
    {
     "name": "stdout",
     "output_type": "stream",
     "text": [
      "i is greater than 0\n",
      "j is greater than 0\n",
      "programme end\n"
     ]
    }
   ],
   "source": [
    "i=1\n",
    "j=5\n",
    "if i > 0 :\n",
    "    print(\"i is greater than 0\")\n",
    "    if j > 0 :\n",
    "        print (\"j is greater than 0\")\n",
    "    elif j <0 :\n",
    "        print (\"j is less than zero\")\n",
    "    else:\n",
    "        print (\"j is equal to 0\")\n",
    "else:\n",
    "    print (\"as i was less than or equal to zero I didn't check j!\")\n",
    "    \n",
    "print(\"programme end\")\n",
    "        "
   ]
  },
  {
   "cell_type": "markdown",
   "metadata": {},
   "source": [
    "Try different integer values of i and j to see how this works. The same result could have been achieved in a different way. You might like to try a different method. Nevertheless it demonstrates the use of nested if statements.\n",
    "\n",
    "## 6.2 Summary\n",
    "\n",
    "\n",
    "In this notebook you have learnt how to:\n",
    "\n",
    "- construct and use boolean statements that give a result 'True' or 'False',\n",
    "- use boolean statements in an _if_ statement to give conditional branching in your programme,\n",
    "- use the _else_ statement to execute code when a true result has not been found in the _if_ statement,\n",
    "- use the _if: ... elif: ... else:_ statement to allow multiple and sequential tests to allow different code to be executed for different cases,\n",
    "- use nested of statements for more complex tasks. \n"
   ]
  }
 ],
 "metadata": {
  "kernelspec": {
   "display_name": "Python 3",
   "language": "python",
   "name": "python3"
  },
  "language_info": {
   "codemirror_mode": {
    "name": "ipython",
    "version": 3
   },
   "file_extension": ".py",
   "mimetype": "text/x-python",
   "name": "python",
   "nbconvert_exporter": "python",
   "pygments_lexer": "ipython3",
   "version": "3.8.3"
  }
 },
 "nbformat": 4,
 "nbformat_minor": 4
}
