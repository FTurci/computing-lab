{
 "cells": [
  {
   "cell_type": "markdown",
   "metadata": {},
   "source": [
    "# 7 'while' statements\n",
    "\n",
    "In the previous notebook you have seen how boolean statements with the _if_ statement can be used to allow branching according to different conditions being met in the programme. Once the condition has been met the programme executes the appropriate code and moves on. In many coding situations you find you wish to repeatedly test a condition and execute the same code until the condition has been met. \n",
    "\n",
    "In this notebook you will learn how to:\n",
    "\n",
    "- use while statements to execute loops until a condition, as defined by a boolean statement, is met,\n",
    "- use the _while_ loop to do a simple _sin_ series summation,\n",
    "- use the a _break_ to terminate a loop, especially in the form of a 'repeat ... until' type structure.\n",
    "\n",
    "## 7.1 The 'while' statement\n",
    "\n",
    "### 7.1.1 while statements and infinite loops\n",
    "\n",
    "A _while_ loop takes the form \n",
    "\n",
    "while _boolean expression_ :<br>\n",
    "..._indented code_\n",
    "\n",
    "If the boolean expression is False the programme will skip the indented code after the _while_ statement and continue execution of the programme. If the boolean expression is True, the indented code is executed and when the indented block is completed the programme returns to the _while_ statement and follows the same procedure.\n",
    "\n",
    "__VERY IMPORTANT.__ From this description you can see that, unless, as result of executing the code in the loop, we reach a condition when the boolean statement is false, then the loop will continue executing endlessly!. The only way you can stop the programme from running is to interrupt the kernel (or \\< CTRL C\\> if you are using for example anaconda or Idle). \n",
    "    \n",
    "Here is a trivial example of an infinite loop. Before you run the code(!) note how the prompt becomes _In [*]_. The * shows the code is still executing. You can interrupt the kernel by using the 'Kernel' tab on the menu at the top of the notebook. "
   ]
  },
  {
   "cell_type": "code",
   "execution_count": 1,
   "metadata": {},
   "outputs": [
    {
     "ename": "KeyboardInterrupt",
     "evalue": "",
     "output_type": "error",
     "traceback": [
      "\u001b[0;31m---------------------------------------------------------------------------\u001b[0m",
      "\u001b[0;31mKeyboardInterrupt\u001b[0m                         Traceback (most recent call last)",
      "\u001b[0;32m/var/folders/lt/p1n6bb0j4_173x9548b473jh0000gn/T/ipykernel_15349/1229866389.py\u001b[0m in \u001b[0;36m<module>\u001b[0;34m\u001b[0m\n\u001b[1;32m      1\u001b[0m \u001b[0ma\u001b[0m\u001b[0;34m=\u001b[0m\u001b[0;32mTrue\u001b[0m\u001b[0;34m\u001b[0m\u001b[0;34m\u001b[0m\u001b[0m\n\u001b[1;32m      2\u001b[0m \u001b[0;32mwhile\u001b[0m \u001b[0ma\u001b[0m \u001b[0;34m:\u001b[0m\u001b[0;34m\u001b[0m\u001b[0;34m\u001b[0m\u001b[0m\n\u001b[0;32m----> 3\u001b[0;31m   \u001b[0mb\u001b[0m\u001b[0;34m=\u001b[0m\u001b[0;36m1\u001b[0m\u001b[0;34m\u001b[0m\u001b[0;34m\u001b[0m\u001b[0m\n\u001b[0m\u001b[1;32m      4\u001b[0m \u001b[0;34m\u001b[0m\u001b[0m\n\u001b[1;32m      5\u001b[0m \u001b[0mprint\u001b[0m\u001b[0;34m(\u001b[0m\u001b[0;34m\"end of programme\"\u001b[0m\u001b[0;34m)\u001b[0m\u001b[0;34m\u001b[0m\u001b[0;34m\u001b[0m\u001b[0m\n",
      "\u001b[0;31mKeyboardInterrupt\u001b[0m: "
     ]
    }
   ],
   "source": [
    "a=True\n",
    "while a :\n",
    "  b=1\n",
    "\n",
    "print(\"end of programme\")"
   ]
  },
  {
   "cell_type": "markdown",
   "metadata": {},
   "source": [
    "At least the 'keyboard interrupt' shows you where you were in the code when it was stopped. \n",
    "\n",
    "Now we are aware of this pitfall let's see a simple example of a _while_ loop in practise. (To avoid getting into the loop on restarting this notebook you may wish to change the code above to start with _a=False_ !). Look at carefully at and run the code below."
   ]
  },
  {
   "cell_type": "code",
   "execution_count": null,
   "metadata": {},
   "outputs": [],
   "source": [
    "i=10                         # Calculate factorial of i\n",
    "fact=1\n",
    "while (i > 0) :\n",
    "    fact = fact*i\n",
    "    i = i-1\n",
    "    \n",
    "print (fact)"
   ]
  },
  {
   "cell_type": "markdown",
   "metadata": {},
   "source": [
    "We have already seen how we could calculate a factorial using a for loop (which is preferable) but let's see how this version works.\n",
    "\n",
    "Firstly, we are going to set the number for factorial calculation in _i_. We have also set our starting value for the factorial outside the loop. We can see already that the loop will execute at least once as _i_ is greater that zero. Note also why we need to set an initial value of 1 for fact. The important point here is that we are changing the value of _i_ in the loop. If we don't then we guarantee we get an infinite loop! We also note that at some point we will get to the point where _i_ becomes less than or equal to zero so that the loop finishes. It might take sometime to execute if _i_ was very large but it will terminate at some point.\n",
    "\n",
    "### 7.1.2 why use while statements?\n",
    "\n",
    "As we noted above, we could most easily have written our factorial calculation above using a _for_ loop. The key is that before we execute a _for_ loop we know or can calculate the precise number of steps needed.\n",
    "\n",
    "However, in many cases we may not know _a priori_ the number of times we wish to execute the loop. Let's take for example the calculation of the sine of a number using the series expansion\n",
    "\n",
    "$\\sin(x) \\simeq x-\\frac{x^3}{3!}+\\frac{x^5}{5!}-\\frac{x^7}{7!}+ ...$\n",
    "\n",
    "We might guess that for very small $x$ we hardly need to go beyond the first term, whereas, for larger $x$ we may need to include many more terms in the series. One way of deciding when to stop the series would be when the size of the last term added reaches a pre-determined and small value (the is not the best way but gives an idea of the principle). We will use this idea in the code fragment below. Look at and read the code below carefully. There are a large number of comments to help you. "
   ]
  },
  {
   "cell_type": "code",
   "execution_count": null,
   "metadata": {},
   "outputs": [],
   "source": [
    "from math import *\n",
    "\n",
    "def fact(n):                 # we need to calculate factorials so let's define a function as an example\n",
    "    ans =1                   # if you look you might find a function to calculate factorials in the libraries we have already used. \n",
    "    for i in range(n):\n",
    "        ans=ans*(i+1)\n",
    "    return (ans)\n",
    "\n",
    "dangle = 10                  # enter angle in degrees\n",
    "angle = dangle*2*pi/(360.)   # now convert to radians (again you might find function in python to do this for you)\n",
    "\n",
    "tolerance = 0.0001           # set the limit for the size of new term below which will terminate the series\n",
    "newterm = 1                  # this doesn't really matter as long as it is > tolerance (to ensure the loop executes at least once)\n",
    "x = angle                    # we know the first term in the series is the angle in radians\n",
    "i = 3                        # we have the first term in term in the series (i=1) so we'll start with i=3\n",
    "j=-1                         # our terms alternate in sign starting negative for i=3. \n",
    "nterms = 1\n",
    "while (abs(newterm) > tolerance):      # we have made sure the loop executes at least once. NB we need the absolute value of newterm.\n",
    "    newterm = x**i/fact(i)*j           # calculate he next term NB. j is the sign. When newterm is < tolerance stop the loop. \n",
    "    x = x+newterm                      # add the new term to our approximation\n",
    "    i = i + 2                          # we don't have any even terms so increment i by 2\n",
    "    j=j*-1                             # changes the sign for the next term\n",
    "    nterms = nterms + 1                # keeps a record of the number of terms we've included.\n",
    "    \n",
    "print(\"sin(\",dangle,\") is approximately\",x)\n",
    "print(nterms,\" terms in the series were used\")\n",
    "print(\"sin(\",dangle,\") is \",sin(angle))\n",
    "    \n"
   ]
  },
  {
   "cell_type": "markdown",
   "metadata": {},
   "source": [
    "Note the programme always uses at least the first two terms in the series (the loop executes at least once). The value in the variable 'tolerance' controls when we will exit the loop. The smaller it is the more terms will be included. You might try changing its value (but whatever you do don't make it negative - why?). Also check to see as you make the angle larger that more terms are included. \n",
    "\n",
    "I have included my own function for calculating factorials. See if you can find the python function in the math packages to do the same. This is not the only way in which you might do the calculation - feel free to experiment!\n",
    "\n",
    "### 7.1.3 how do I code a 'repeat ... until' structure\n",
    "\n",
    "In some languages and books on programming you may see reference to a _repeat ... until_ loop. Python does not have a direct implementation. So what is a _repeat ... until_ loop? As we noted our while loop will not execute at all if the boolean expression is false when the while statement is first called. A _repeat ... until_ loop executes the loop at least once and tests  at the end of the loop. As we have seen in the example above this can be achieved with a while loop by forcing the condition to be true at the entry point to the while loop.\n",
    "\n",
    "An alternative way to do this is as follows"
   ]
  },
  {
   "cell_type": "code",
   "execution_count": null,
   "metadata": {},
   "outputs": [],
   "source": [
    "i = 5\n",
    "while True :\n",
    "   i =i -1\n",
    "   if i == 0 :\n",
    "        print (\"the condition i == 0 has been met\")\n",
    "        break\n",
    "\n",
    "print(\"end\")"
   ]
  },
  {
   "cell_type": "markdown",
   "metadata": {},
   "source": [
    "As you can see the condition (i == 0) here is tested at the end of the loop if the condition is met then _break_ means exit the loop immediately and proceed with the code following. \n",
    "\n",
    "### 7.1.4 the _break_ statement\n",
    "\n",
    "_break_ may actually be used at any position in a _while_ or _for_ loop. However, you should think very carefully about how you use it and what the implications are for the code following when you break from a partially completed loop.     \n",
    "\n",
    "## 7.2 Summary\n",
    "\n",
    "In this notebook you have learnt how to:\n",
    "\n",
    "- use a _while_ statement to repeatedly execute a fragment of code until a boolean condition is met,\n",
    "- anticipate and avoid infintite loops when using _while_ statements,\n",
    "- learn how to break out of for or _while_ loop,\n",
    "- shown how a _while_ loop may be used to sum a sine series to a pre-set tolerance."
   ]
  }
 ],
 "metadata": {
  "kernelspec": {
   "display_name": "Python 3",
   "language": "python",
   "name": "python3"
  },
  "language_info": {
   "codemirror_mode": {
    "name": "ipython",
    "version": 3
   },
   "file_extension": ".py",
   "mimetype": "text/x-python",
   "name": "python",
   "nbconvert_exporter": "python",
   "pygments_lexer": "ipython3",
   "version": "3.8.11"
  }
 },
 "nbformat": 4,
 "nbformat_minor": 4
}