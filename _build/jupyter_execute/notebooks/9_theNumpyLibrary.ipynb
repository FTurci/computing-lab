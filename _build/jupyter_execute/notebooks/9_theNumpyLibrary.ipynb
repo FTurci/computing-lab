{
 "cells": [
  {
   "cell_type": "markdown",
   "metadata": {},
   "source": [
    "# 9. Introduction to the Numpy library.\n",
    "\n",
    "We have briefly introduced the Numpy library in earlier notebooks where we have seen the similarity between the standard python list and its numpy equivalent, what we will now formally describe as a numpy array. While useful, the list object that we have used so far is limited and not particularly useful for advanced mathematical or numerical methods. As we shall see, the use of multi-dimensional arrays sits naturally as way of doing much of the formal mathematics you have been doing so far. For example a simple 1D array with three components is a natural way of defining the $\\bf{i , j, k}$ components of a vector in 3 dimensions. Furthermore, if we can define a series of functions that, for example, calculate the dot and cross product of two vectors based on these arrays, then we can simplify greatly many of the numerical caclulations we wish to carry out. The python numpy library (or for more advanced functions the scipy library) has become the de facto library of choice for these matrix and linear algebra methods.\n",
    "\n",
    "We do not have time, in this course to give a comprehensive discussion of the numpy library but at the end of this notebook you should begin to get a feel for its use and the type of problems you might solve. At the heart of the library is the concept of the numpy array and from this point we will use these arrays exclusively rather than the basic python list we have discussed so far.\n",
    "\n",
    "For detailed information about the numpy and scipy libraries goto to either https://www.scipy.org/ or https://numpy.org/.\n",
    "\n",
    "In this notebook you will learn,\n",
    "\n",
    "- how to create and maniuplate 1D numpy arrays by direct use of the array index and by vectorisation,\n",
    "- how to slice, dice and append 1D arrays using numpy,\n",
    "- how to use 3 element 1D numpy arrays as vectors and to generate dot and cross products,\n",
    "- how to do statistical operations on 1D arrays, i.e. mean, standard deviation etc.,\n",
    "- how to create 2D (and higher dimensional arrays),\n",
    "- how to index higher dimensional arrays,\n",
    "- about the extension of vectorisation to higher dimensional arrays.\n",
    "- how numpy may be used to do basic matrix calculations. \n",
    "\n",
    "Remember that in order to use the numpy library it must be imported. It is almost taken as standard that it is named _np_\n",
    "although this is more a matter of convention rather than a requirement.\n",
    "\n",
    "i.e.\n",
    "\n",
    "_import numpy as np_\n",
    "\n",
    "## 9.1 The 1D numpy array.\n",
    "\n",
    "### 9.1.1 Creating 1D numpy arrays \n",
    "\n",
    "We have already come across the numpy 1D array in earlier notebooks but we will re-iterate some of the main points here. There are several ways in which we can create a numpy array. A few are shown below. Run the code block below and make sure you understand the output."
   ]
  },
  {
   "cell_type": "code",
   "execution_count": 1,
   "metadata": {},
   "outputs": [
    {
     "name": "stdout",
     "output_type": "stream",
     "text": [
      "a=  [1 2 3 4 5]\n",
      "b=  [0. 0. 0. 0. 0.]\n",
      "c=  [1. 1. 1. 1. 1. 1.]\n",
      "d=  [0 1 2 3 4 5 6 7 8 9]\n",
      "<class 'numpy.ndarray'>\n"
     ]
    }
   ],
   "source": [
    "import numpy as np\n",
    "\n",
    "a=np.array([1,2,3,4,5])\n",
    "b=np.zeros(5)\n",
    "c=np.ones(6)\n",
    "d=np.arange(10)\n",
    "#\n",
    "# Now print out the arrays that have been created\n",
    "#\n",
    "print(\"a= \",a)\n",
    "print(\"b= \",b)\n",
    "print(\"c= \",c)\n",
    "print(\"d= \",d)\n",
    "#\n",
    "print(type(a))\n"
   ]
  },
  {
   "cell_type": "markdown",
   "metadata": {},
   "source": [
    "In these examples, note that by default, the function arange creates a list of integers, whereas _ones_ and _zeros_ generate floats by default.  As we saw previously we can overwrite these defaults by using the _dtype_ declaration the function calls. i.e. "
   ]
  },
  {
   "cell_type": "code",
   "execution_count": 2,
   "metadata": {},
   "outputs": [
    {
     "name": "stdout",
     "output_type": "stream",
     "text": [
      "e=  [0 0 0 0 0]\n",
      "f=  [1.+0.j 1.+0.j 1.+0.j 1.+0.j 1.+0.j 1.+0.j]\n",
      "g= [0.  0.5 1.  1.5 2. ]\n"
     ]
    }
   ],
   "source": [
    "import numpy as np\n",
    "e=np.zeros(5,dtype=\"int\")\n",
    "f=np.ones(6,dtype=\"complex\")\n",
    "#\n",
    "print(\"e= \",e)\n",
    "print(\"f= \",f)\n",
    "#\n",
    "g=np.empty(5,dtype=\"float\")\n",
    "print(\"g=\", g)\n"
   ]
  },
  {
   "cell_type": "markdown",
   "metadata": {},
   "source": [
    "The last statement _np.empty(5)_ is unusual. In this case python reserves the memory needed to store the numbers for the array, but it does not set their value. As you see, it often returns zeros, but this does not have to be the case. Why bother? Well, it takes time to allocate values to the array so if you are using big arrays you save computer time as you should be allocating values later in the code anyway (if you have written the programme properly). There are other array creation functions that can save you time, for example, the _linspace_ and _logsapce_ functions shown below"
   ]
  },
  {
   "cell_type": "code",
   "execution_count": 3,
   "metadata": {},
   "outputs": [
    {
     "name": "stdout",
     "output_type": "stream",
     "text": [
      "h=  [1.  1.1 1.2 1.3 1.4 1.5 1.6 1.7 1.8 1.9 2. ]\n",
      "m=  [10.   1.   0.1]\n"
     ]
    }
   ],
   "source": [
    "import numpy as np\n",
    "h=np.linspace(1,2,11)    # note the first argument is the start, the second the last and the third the step\n",
    "m=np.logspace(1,-1,3)\n",
    "#\n",
    "print(\"h= \",h)\n",
    "print(\"m= \",m)"
   ]
  },
  {
   "cell_type": "markdown",
   "metadata": {},
   "source": [
    "We saw this earlier when we used _linspace_ to define the _x_ coordinates for a graph. \n",
    "\n",
    "A few other useful functions you can use  are given below. Make a note of the output in this case of a 1D array. We will see how the results change later when we discuss multi-dimensional arrays."
   ]
  },
  {
   "cell_type": "code",
   "execution_count": 4,
   "metadata": {},
   "outputs": [
    {
     "name": "stdout",
     "output_type": "stream",
     "text": [
      "The dimension of a is  1\n",
      "The size of a is  5\n",
      "The shape of a is  (5,)\n"
     ]
    }
   ],
   "source": [
    "print(\"The dimension of a is \", np.ndim(a))     # find the dimension of the array\n",
    "print(\"The size of a is \",np.size(a))           # find the size of the array\n",
    "print(\"The shape of a is \",np.shape(a))         # find the shape of the array"
   ]
  },
  {
   "cell_type": "markdown",
   "metadata": {},
   "source": [
    "### 9.1.2 Indexing and slicing arrays\n",
    "\n",
    "In the previous notebooks you have seen how to address, by the index, the different elements of a 1D numpy array. For example, if we wish to generate the first 13 integers (including 0) squared in an array we can do:"
   ]
  },
  {
   "cell_type": "code",
   "execution_count": 5,
   "metadata": {},
   "outputs": [
    {
     "name": "stdout",
     "output_type": "stream",
     "text": [
      "[  0.   1.   4.   9.  16.  25.  36.  49.  64.  81. 100. 121. 144.]\n"
     ]
    }
   ],
   "source": [
    "import numpy as np\n",
    "n=13\n",
    "sqs=np.zeros(n)\n",
    "for i in range(n):\n",
    "    sqs[i]=i**2\n",
    "    \n",
    "print(sqs)"
   ]
  },
  {
   "cell_type": "markdown",
   "metadata": {},
   "source": [
    "There are also very powerful ways of slicing arrays in to sub-arrays. A few examples are given below where you can see how the ':' is used to subdivide the array. The easiest way to understand this is to experiment with some simple arrays of your own. The syntax is very similar to the way you can slice strings in python, so it is also useful to look up 'cutting and slicing strings in python'."
   ]
  },
  {
   "cell_type": "code",
   "execution_count": 6,
   "metadata": {},
   "outputs": [
    {
     "name": "stdout",
     "output_type": "stream",
     "text": [
      "[0. 1. 2. 3. 4. 5. 6. 7. 8. 9.]\n",
      "4.0\n",
      "7.0\n",
      "[4. 5. 6. 7.]\n",
      "[2. 5. 8.]\n",
      "[0. 2. 4. 6. 8.]\n",
      "[9. 8. 7. 6. 5. 4. 3. 2. 1. 0.]\n",
      "[0. 1. 2.]\n",
      "[4. 5. 6. 7. 8. 9.]\n",
      "[2. 3. 4. 5.]\n"
     ]
    }
   ],
   "source": [
    "sequence=np.arange(10,dtype=\"float\")\n",
    "print(sequence)\n",
    "print(sequence[4])            # print the element with index 4, note the index starts with zero\n",
    "i=7\n",
    "print(sequence[i])            # print the element using an index variable (must be integer)\n",
    "print(sequence[4:8])          # print the elements with indices between 4 and 8 (note carefully the output)\n",
    "print(sequence[2::3])         # print the element with index 2 and every third element afterwards\n",
    "print(sequence[::2])          # print the elements with index 0,2,4 ..\n",
    "print(sequence[::-1])         # prints the elements in reverse order.\n",
    "print(sequence[:3])           # print the first 3 elements\n",
    "print(sequence[4:])           # print from the fourth element onwards\n",
    "i=2\n",
    "j=6\n",
    "newseq=sequence[i:j]          # NB. You cou can create new arrays using these slicing functions.\n",
    "print(newseq)"
   ]
  },
  {
   "cell_type": "markdown",
   "metadata": {},
   "source": [
    "Take care to make sure you fully understand this syntax for 1D arrays as, as we shall see shortly, it is readily extended to multidimensional arrays.\n",
    "\n",
    "### 9.1.3  adding and removing array elements.\n",
    "\n",
    "In most cases you should try to create arrays with the size you need for your calculation. However, it is possible to delete, insert or append elements. The examples below show you how to do this. Note, you will need to use the numpy 's' function if you wish to delete slices of arrays (see variable c). \n",
    "\n"
   ]
  },
  {
   "cell_type": "code",
   "execution_count": 7,
   "metadata": {},
   "outputs": [
    {
     "name": "stdout",
     "output_type": "stream",
     "text": [
      "[ 0  1  2  3  4  5  6  7  8  9 10 11 12 13 14 15 16 17 18 19 20]\n",
      "b elements 1,3,5 removed [ 0  2  4  6  7  8  9 10 11 12 13 14 15 16 17 18 19 20]\n",
      "c elements 1 to 4 removed [ 0  5  6  7  8  9 10 11 12 13 14 15 16 17 18 19 20]\n",
      "d 25,27 and 29 inserted  [ 0  1  2  3  4  5  6  7  8  9 25 27 29 10 11 12 13 14 15 16 17 18 19 20]\n",
      "e 24,26,28 appended at the end [ 0  1  2  3  4  5  6  7  8  9 10 11 12 13 14 15 16 17 18 19 20 24 26 28]\n"
     ]
    }
   ],
   "source": [
    "import numpy as np\n",
    "a=np.arange(21)\n",
    "print(a)\n",
    "b=np.delete(a,[1,3,5])                # elements 1,3,5 of a are removed\n",
    "c=np.delete(a,np.s_[1:5])             # elements 1 to 5 of a are removed.\n",
    "print(\"b elements 1,3,5 removed\",b)\n",
    "print(\"c elements 1 to 4 removed\",c)\n",
    "d=np.insert(a,10,[25,27,29])          # insert the numbers 25,27,29 after 10th element\n",
    "print(\"d 25,27 and 29 inserted \",d)\n",
    "e=np.append(a,[24,26,28])             # 24,26 and 28 appended at the end\n",
    "print(\"e 24,26,28 appended at the end\",e)"
   ]
  },
  {
   "cell_type": "markdown",
   "metadata": {},
   "source": [
    "## 9.2 mathematical operations on 1D arrays.\n",
    "\n",
    "### 9.2.1 Basic functions\n",
    "\n",
    "Numpy includes all the standard functions that you will find in the math library so you do not need to import the math library separately. However, it also extends these functions to operate smoothly on arrays (rather than simple variables). You do need to make sure that you use the numpy version (ie. np.sin ...) as a call to the corresponding function in the math library using an array will fail (you might test this yourself). Hence it is very easy to plot for example a function once you've defined the _x_ points you wish to use. Look at this example, it automatically creates an array _y_ with elements that correspond to each element in the array _x_. The ability to do these operations on multiply elements in an array without using loops is known as vectorisation. "
   ]
  },
  {
   "cell_type": "code",
   "execution_count": 8,
   "metadata": {},
   "outputs": [
    {
     "data": {
      "image/png": "[encoded data removed]",
      "text/plain": [
       "<Figure size 432x288 with 1 Axes>"
      ]
     },
     "metadata": {
      "filenames": {
       "image/png": "/Users/francesco/Library/CloudStorage/Dropbox/Teaching/ComputingLab/FromAdrian/ComputingLab/_build/jupyter_execute/notebooks/9_theNumpyLibrary_15_0.png"
      },
      "needs_background": "light"
     },
     "output_type": "display_data"
    }
   ],
   "source": [
    "import numpy as np\n",
    "from matplotlib import pyplot as plt\n",
    "x=np.linspace(-10.,10.,100)\n",
    "y=np.cos(x)\n",
    "plt.plot(x,y)\n",
    "plt.show()"
   ]
  },
  {
   "cell_type": "markdown",
   "metadata": {},
   "source": [
    "Other examples of vectorisation are shown in the examples below. You might compare the first with the loop we showed in section 9.1.2. "
   ]
  },
  {
   "cell_type": "code",
   "execution_count": 9,
   "metadata": {},
   "outputs": [
    {
     "name": "stdout",
     "output_type": "stream",
     "text": [
      "[  0   1   4   9  16  25  36  49  64  81 100 121 144]\n",
      " \n",
      "[   0    1    8   27   64  125  216  343  512  729 1000 1331 1728]\n"
     ]
    }
   ],
   "source": [
    "import numpy as np\n",
    "x=np.arange(13)\n",
    "y=x*x                         # generate an array of squares using vectorisation\n",
    "print(y)\n",
    "print(\" \")\n",
    "z=x*y                         # now generate an array of cubes from the squares - again using vectorisation.\n",
    "print(z)"
   ]
  },
  {
   "cell_type": "markdown",
   "metadata": {},
   "source": [
    "### 9.2.2 Array functions\n",
    "\n",
    "#### Vectors\n",
    "\n",
    "In addition to the mathematical functions you expect, numpy , also has functions that operate specifically on arrays. Let's take some examples of operations on vectors stored with numpy as 1D vectors of 3 elements. See how it is much easier to do cross-products in python (and less prone to error) rather than doing them by hand. Also note how numpy correctly returns a scalar for the dot product and a vector (as an array) for the cross product. "
   ]
  },
  {
   "cell_type": "code",
   "execution_count": 10,
   "metadata": {},
   "outputs": [
    {
     "name": "stdout",
     "output_type": "stream",
     "text": [
      "dot product of a and b is 49\n",
      "cross product of a and b is [-1 -5  9]\n"
     ]
    }
   ],
   "source": [
    "import numpy as np\n",
    "a=[2,5,3]\n",
    "b=[1,7,4]\n",
    "c=np.dot(a,b)\n",
    "d=np.cross(a,b)                        # NB. This is only valid for 2D or 3D vectors (There is no definition for N>3)\n",
    "print(\"dot product of a and b is\", c)\n",
    "print(\"cross product of a and b is\",d)"
   ]
  },
  {
   "cell_type": "markdown",
   "metadata": {},
   "source": [
    "#### Statistical\n",
    "\n",
    "If I have a 1D array of numbers, then it is easy to carry obtain statistical functions, see the examples below. "
   ]
  },
  {
   "cell_type": "code",
   "execution_count": 11,
   "metadata": {},
   "outputs": [
    {
     "name": "stdout",
     "output_type": "stream",
     "text": [
      "[6.14978846e-02 7.66658712e+01 8.44203241e+00 2.01652340e+00\n",
      " 7.29091918e+01 6.30448672e+01 8.30486950e+01 1.36711197e+01\n",
      " 5.19230094e+01 5.27569249e+00]\n",
      "Mean Value =  37.70585003927116\n",
      "Median value =  32.7970645541252\n",
      "Standard deviation =  32.914898146640816\n",
      "variance = 1083.3905200037389\n",
      "Maximum =  83.0486950101446\n",
      "Minimum =  0.06149788464849815\n"
     ]
    }
   ],
   "source": [
    "import numpy as np\n",
    "npts=10\n",
    "data=np.empty(npts)\n",
    "for i in range(npts):\n",
    "    data[i]=np.random.rand()*100.             # Generate a set of random numbers between 0 and 99\n",
    "\n",
    "meanvalue=np.mean(data)\n",
    "medianvalue=np.median(data)\n",
    "standarddev=np.std(data)\n",
    "variance=np.var(data)\n",
    "maxval=np.max(data)\n",
    "minval=np.min(data)\n",
    "print(data)\n",
    "print(\"Mean Value = \", meanvalue)\n",
    "print(\"Median value = \", medianvalue)\n",
    "print(\"Standard deviation = \",standarddev)\n",
    "print(\"variance =\",variance)\n",
    "print(\"Maximum = \",maxval)\n",
    "print(\"Minimum = \", minval)"
   ]
  },
  {
   "cell_type": "markdown",
   "metadata": {},
   "source": [
    "There are other functions that will find the sum of all the elements in the array, the product of all the elements, the index of the maximum and minimum values in the list etc. In short, if there is an operation you wish to carry out on a 1D numpy array there is almost certainly a numpy function that will do the job for you. There is also a useful _np.histogram()_ function but we do not have the time to discuss it here. You might look it up if you wish to produce histograms of data. "
   ]
  },
  {
   "cell_type": "markdown",
   "metadata": {},
   "source": [
    "## 9.3 Multi-dimensional arrays - 2D arrays. \n",
    "\n",
    "As we have seen, numpy is very useful for handling 1D arrays of data and the inbuilt functions save a great deal of time and effort compared to writing them for yourself. However, the utility of the numpy library becomes more apparent when we wish to carry out calculations on data in multidimensional arrays. For example, you will see 3 x 3 matrices have an important part to play in many physical problems and basic operations like transposition, inversion and finding determinants of matrices are some of the important operations we may wish to carry out on them. To do the calculations by hand is tedious and error prone but these are exactly the kind of calculations that are well suited to our computational methods. In the next sections we wil look at basic array manipulations and calculations. Towards the end of the numerical modelling course we will look at more complex problems involving linear algebra that will show the true utility of this library. We will also introduce matrix methods with numpy. If you have not covered matrices in your maths course yet you may omit the relevant section and come back to it later. \n",
    "\n",
    "### 9.3.1 Creating 2 dimensional arrays explicitly.\n",
    "\n",
    "The simplest way for creating 2D arrays may be seen in the following:\n"
   ]
  },
  {
   "cell_type": "code",
   "execution_count": 12,
   "metadata": {},
   "outputs": [
    {
     "name": "stdout",
     "output_type": "stream",
     "text": [
      "a = \n",
      "[[1 2 3]\n",
      " [4 5 6]\n",
      " [7 8 9]]\n",
      " \n",
      "b = \n",
      "[[1 2 3 4]\n",
      " [5 6 7 8]]\n",
      " \n",
      "c = \n",
      "[[1 2]\n",
      " [3 4]\n",
      " [5 6]\n",
      " [7 8]]\n",
      " \n",
      "d = \n",
      "[list([1, 2, 3]) list([1, 2])]\n",
      "The shape of a is (3, 3)\n",
      "The shape of b is (2, 4)\n",
      "The shape of c is (4, 2)\n",
      "The shape of d is (2,)\n",
      "The dimension of a is  2\n",
      "The size of a is  9\n"
     ]
    },
    {
     "name": "stderr",
     "output_type": "stream",
     "text": [
      "/var/folders/lt/p1n6bb0j4_173x9548b473jh0000gn/T/ipykernel_15399/3622494392.py:14: VisibleDeprecationWarning: Creating an ndarray from ragged nested sequences (which is a list-or-tuple of lists-or-tuples-or ndarrays with different lengths or shapes) is deprecated. If you meant to do this, you must specify 'dtype=object' when creating the ndarray.\n",
      "  d=np.array([[1,2,3],[1,2]])\n"
     ]
    }
   ],
   "source": [
    "import numpy as np\n",
    "a=np.array([[1, 2, 3], [4, 5, 6], [7, 8, 9]])\n",
    "b=np.array([[1,2,3,4],[5,6,7,8]])\n",
    "c=np.array([[1,2],[3,4],[5,6],[7,8]])\n",
    "print(\"a = \")\n",
    "print(a)\n",
    "print(\" \")\n",
    "print(\"b = \")\n",
    "print(b)\n",
    "print(\" \")\n",
    "print(\"c = \")\n",
    "print(c)\n",
    "print(\" \")\n",
    "d=np.array([[1,2,3],[1,2]])\n",
    "print(\"d = \")\n",
    "print(d)\n",
    "#\n",
    "# Note also how we can check the sahpe of our ararys, i.e.\n",
    "#\n",
    "print(\"The shape of a is\",np.shape(a))\n",
    "print(\"The shape of b is\",np.shape(b))\n",
    "print(\"The shape of c is\",np.shape(c))\n",
    "print(\"The shape of d is\",np.shape(d))\n",
    "#\n",
    "# Note also\n",
    "#\n",
    "print(\"The dimension of a is \", np.ndim(a))     # find the dimension of the array\n",
    "print(\"The size of a is \",np.size(a))           # find the size of the array\n"
   ]
  },
  {
   "cell_type": "markdown",
   "metadata": {},
   "source": [
    "If you look at the syntax carefully you can see that we have created an array of 1D arrays! Note the outer set of brackets for the 2D array as a whole and the inner set for the 1D arrays that make the rows of the 2D array. The 2D array is hence arranged by adding row after row. Note, how the 3 x 3, 4 x 2 and 2 x 4 arrays have been created. Note also that the output for the last array, _d_, cannot be represented as an _n_ by _m_ array.\n",
    "\n",
    "Note also how we can establish the dimension of the array with the _np.ndim()_ function and its size (the total number of elements) with the _np.size()_ that we used previously for 1D arrays. \n",
    "\n",
    "### 9.3.2 - creating 2D arrays in a programme.\n",
    "\n",
    "We can create 2D arrays in much the same way, with the same functions that we used for creating 1D arrays. Note the slightly different syntax and make sure you include double brackets (i.e. the brackets for the function and the brackes for a tuple. You will mpost likely use _np.eye_ when doing matrix operations as it is a quick way of creating the indentity matrix.  "
   ]
  },
  {
   "cell_type": "code",
   "execution_count": 13,
   "metadata": {},
   "outputs": [
    {
     "name": "stdout",
     "output_type": "stream",
     "text": [
      "a = \n",
      "[[1. 1. 1. 1.]\n",
      " [1. 1. 1. 1.]\n",
      " [1. 1. 1. 1.]\n",
      " [1. 1. 1. 1.]]\n",
      "b = \n",
      "[[0. 0. 0. 0.]\n",
      " [0. 0. 0. 0.]\n",
      " [0. 0. 0. 0.]]\n",
      "c = \n",
      "[[10 10 10]\n",
      " [10 10 10]\n",
      " [10 10 10]]\n",
      "d = \n",
      "[[1. 0. 0. 0. 0. 0.]\n",
      " [0. 1. 0. 0. 0. 0.]\n",
      " [0. 0. 1. 0. 0. 0.]\n",
      " [0. 0. 0. 1. 0. 0.]\n",
      " [0. 0. 0. 0. 1. 0.]\n",
      " [0. 0. 0. 0. 0. 1.]]\n"
     ]
    }
   ],
   "source": [
    "a=np.ones((4,4))\n",
    "print(\"a = \")\n",
    "print(a)\n",
    "b=np.zeros((3,4))\n",
    "print(\"b = \")\n",
    "print(b)\n",
    "c=np.full((3,3),10)\n",
    "print(\"c = \")\n",
    "print(c)\n",
    "d=np.eye(6)\n",
    "print(\"d = \")\n",
    "print(d)"
   ]
  },
  {
   "cell_type": "markdown",
   "metadata": {},
   "source": [
    "If we wish, we can also start with 1D arrays and change their 'shape' to a 2 or higher dimensional array later. For example, look at the code below where we start ith a 9 element 1D array that we reshape into a 3x3 array. "
   ]
  },
  {
   "cell_type": "code",
   "execution_count": 14,
   "metadata": {},
   "outputs": [
    {
     "name": "stdout",
     "output_type": "stream",
     "text": [
      "[0 1 2 3 4 5 6 7 8]\n",
      "(9,)\n",
      "[[0 1 2]\n",
      " [3 4 5]\n",
      " [6 7 8]]\n",
      "(3, 3)\n"
     ]
    }
   ],
   "source": [
    "import numpy as np\n",
    "a=np.arange(9)\n",
    "print(a)\n",
    "print(np.shape(a))\n",
    "a=np.reshape(a,(3,3))\n",
    "print(a)\n",
    "print(np.shape(a))"
   ]
  },
  {
   "cell_type": "markdown",
   "metadata": {},
   "source": [
    "We shall not use them on this course, but for completeness, we can define higher dimensional arrays by an extension of the methods we have used for 1D and 2D. Look at the code below to see some examples. "
   ]
  },
  {
   "cell_type": "code",
   "execution_count": 15,
   "metadata": {},
   "outputs": [
    {
     "name": "stdout",
     "output_type": "stream",
     "text": [
      " a is\n",
      "[[[1 2]\n",
      "  [3 4]]\n",
      "\n",
      " [[5 6]\n",
      "  [7 8]]]\n",
      "b is\n",
      "[[[1. 1. 1.]\n",
      "  [1. 1. 1.]\n",
      "  [1. 1. 1.]]\n",
      "\n",
      " [[1. 1. 1.]\n",
      "  [1. 1. 1.]\n",
      "  [1. 1. 1.]]\n",
      "\n",
      " [[1. 1. 1.]\n",
      "  [1. 1. 1.]\n",
      "  [1. 1. 1.]]]\n",
      "c is\n",
      "[[[ 0  1  2]\n",
      "  [ 3  4  5]\n",
      "  [ 6  7  8]]\n",
      "\n",
      " [[ 9 10 11]\n",
      "  [12 13 14]\n",
      "  [15 16 17]]\n",
      "\n",
      " [[18 19 20]\n",
      "  [21 22 23]\n",
      "  [24 25 26]]]\n",
      " \n",
      " d is a 4D array - very hard to express in 2 dimensions on paper!\n",
      "[[[[0. 0.]\n",
      "   [0. 0.]]\n",
      "\n",
      "  [[0. 0.]\n",
      "   [0. 0.]]]\n",
      "\n",
      "\n",
      " [[[0. 0.]\n",
      "   [0. 0.]]\n",
      "\n",
      "  [[0. 0.]\n",
      "   [0. 0.]]]]\n"
     ]
    }
   ],
   "source": [
    "import numpy as np\n",
    "a=np.array([[[1,2],[3,4]],[[5,6],[7,8]]])\n",
    "print(\" a is\")                # create a 3D array\n",
    "print(a)\n",
    "b=np.ones((3,3,3))            # create a 3D array of ones.\n",
    "print(\"b is\")            \n",
    "print(b)\n",
    "c=np.arange(27)\n",
    "c=np.reshape(c,(3,3,3))       # create a 3D array\n",
    "print(\"c is\")\n",
    "print(c)\n",
    "print(\" \")\n",
    "d=np.zeros((2,2,2,2))\n",
    "print(\" d is a 4D array - very hard to express in 2 dimensions on paper!\")\n",
    "print(d)"
   ]
  },
  {
   "cell_type": "markdown",
   "metadata": {},
   "source": [
    "### 9.3.3 Indexing a 2D array\n",
    "\n",
    "In the same way that we can index a 1D array, we can also do the same for a 2D array as long as we know the syntax. The important point to remember is the index of our rows and columns starts at zero (as in the case of a 1D array). Hence, for a 3 x 3 array the row index will be 0,1, or 2 and similarly the column index will be 0,1 or 2. To index an element in the array is then straight forward using the syntax \\[ _row index_ , _column index_ \\]. Look at the array, _a_ , created below and make sure that you understand how the elements in the array have been indexed. \n",
    "\n",
    "\\[This also extends to e.g 3D arrays as, for example, we would have \\[ _row index_ , _column index_  , _sheet index_ \\] \\]"
   ]
  },
  {
   "cell_type": "code",
   "execution_count": 16,
   "metadata": {},
   "outputs": [
    {
     "name": "stdout",
     "output_type": "stream",
     "text": [
      "[[1 2 3]\n",
      " [4 5 6]\n",
      " [7 8 9]]\n",
      "3\n",
      "4\n",
      "8\n"
     ]
    }
   ],
   "source": [
    "import numpy as np\n",
    "a=np.array([[1, 2, 3], [4, 5, 6], [7, 8, 9]])\n",
    "print(a)\n",
    "print(a[0,2])\n",
    "print(a[1,0])\n",
    "print(a[2,1])"
   ]
  },
  {
   "cell_type": "markdown",
   "metadata": {},
   "source": [
    "As we have also seen in previous notebooks the ability to refer to individual elements in 2D arrays by their indices is also important programmatically. In the code block below you can see how, with a nested loop, you can cycle through the individual elements in an array. You should also look carefully at the order in which the elements of the array are  printed (i.e. inner loop first, then outer loop) and how it changes when for example, I swap the indices around (i.e. from a\\[i,j\\] to a \\[j,i\\].)"
   ]
  },
  {
   "cell_type": "code",
   "execution_count": 17,
   "metadata": {},
   "outputs": [
    {
     "name": "stdout",
     "output_type": "stream",
     "text": [
      "1\n",
      "2\n",
      "3\n",
      "4\n",
      "5\n",
      "6\n",
      "7\n",
      "8\n",
      "9\n"
     ]
    }
   ],
   "source": [
    "import numpy as np\n",
    "a=np.array([[1, 2, 3], [4, 5, 6], [7, 8, 9]])\n",
    "for i in range(3):\n",
    "    for j in range(3):\n",
    "        print(a[i,j])                # comment and uncomment these print statements to see how the elements of the\n",
    "#        print(a[j,i])               # 3 x 3 array are indexed. \n",
    "        \n"
   ]
  },
  {
   "cell_type": "markdown",
   "metadata": {},
   "source": [
    "### 9.3.4 Mathematical operations on 2D arrays\n",
    "\n",
    "At this point it is important to realise that the 'standard' python mathematical operations on arrays are not the same as the matrix operations we will see later. So, when the arrays have the same shape, normal operations (+,-,\\*,/ )  are done element wise (i.e. $a_i *a_i$ ) and not by matrix methods (vectorisation again) . This is why we can do / operations (that are not allowed with matrix algebra). It is also faster, in python, than writing explicit loops. \n",
    "To understand these operations look at the effect of these operators on the 1D row and column arrays below. The results may appear strange at first but make sure you understand the results and the difference between a 1D array as a row and a 1D array as a column."
   ]
  },
  {
   "cell_type": "code",
   "execution_count": 18,
   "metadata": {},
   "outputs": [
    {
     "name": "stdout",
     "output_type": "stream",
     "text": [
      "a =\n",
      "[1 2 3]\n",
      "b = \n",
      "[[2]\n",
      " [4]\n",
      " [6]]\n",
      "a*b = \n",
      "[[ 2  4  6]\n",
      " [ 4  8 12]\n",
      " [ 6 12 18]]\n",
      "a*c = \n",
      "[ 2  8 18]\n",
      "a/c =\n",
      "[0.5 0.5 0.5]\n",
      "a/b =\n",
      "[[0.5        1.         1.5       ]\n",
      " [0.25       0.5        0.75      ]\n",
      " [0.16666667 0.33333333 0.5       ]]\n"
     ]
    }
   ],
   "source": [
    "import numpy as np\n",
    "a=np.array([1,2,3])                 # a is a row vector\n",
    "b=np.array([[2],[4],[6]])           # b is a column vector\n",
    "c=np.array([2,4,6])                 # c is a row vector\n",
    "\n",
    "print(\"a =\")\n",
    "print(a)\n",
    "print(\"b = \")\n",
    "print(b)\n",
    "print(\"a*b = \")\n",
    "print(a*b)\n",
    "print(\"a*c = \")\n",
    "print(a*c)\n",
    "print(\"a/c =\")\n",
    "print(a/c)\n",
    "print(\"a/b =\")\n",
    "print(a/b)"
   ]
  },
  {
   "cell_type": "markdown",
   "metadata": {},
   "source": [
    "then look at the the 2D arrays below, again make sure that you understand how the elements in the arrays have been multiplied and divided."
   ]
  },
  {
   "cell_type": "code",
   "execution_count": 19,
   "metadata": {},
   "outputs": [
    {
     "name": "stdout",
     "output_type": "stream",
     "text": [
      "a = \n",
      "[[2 4 6]\n",
      " [1 3 5]\n",
      " [3 6 9]]\n",
      "b= \n",
      "[[ 4  8 12]\n",
      " [ 1  3  5]\n",
      " [ 9 18 27]]\n",
      "a * b =\n",
      "[[  8  32  72]\n",
      " [  1   9  25]\n",
      " [ 27 108 243]]\n",
      "a / b =\n",
      "[[0.5        0.5        0.5       ]\n",
      " [1.         1.         1.        ]\n",
      " [0.33333333 0.33333333 0.33333333]]\n"
     ]
    }
   ],
   "source": [
    "a=np.array([[2,4,6],[1,3,5],[3,6,9]])\n",
    "b=np.array([[4,8,12],[1,3,5],[9,18,27]])\n",
    "print(\"a = \")\n",
    "print(a)\n",
    "print(\"b= \")\n",
    "print(b)\n",
    "print(\"a * b =\")\n",
    "print(a*b)\n",
    "print(\"a / b =\")\n",
    "print(a/b)"
   ]
  },
  {
   "cell_type": "markdown",
   "metadata": {},
   "source": [
    "The only way to really see how this work is to try this out for arrays of different shapes and sizes and look at the results for yourself."
   ]
  },
  {
   "cell_type": "markdown",
   "metadata": {},
   "source": [
    "### 9.3.5 Matrix and linear algebra operations using  numpy arrays.\n",
    "\n",
    "In numpy, we need to take care when we wish to carry out explict matrix and linear algebra calculations. There is a sub package in numpy called the _linalg_ package that you should always use the _linalg_ functions in preference to similarly named functions in numpy itself (i.e. _np.linalg.inv()_ rather than _np.invert()_ ) . Look at the following example:"
   ]
  },
  {
   "cell_type": "code",
   "execution_count": 20,
   "metadata": {},
   "outputs": [
    {
     "name": "stdout",
     "output_type": "stream",
     "text": [
      "[[-42  -9 -13]\n",
      " [ -2 -17  -6]\n",
      " [-10 -19 -28]]\n",
      "[[ 2.70270270e-02 -2.70786104e-18 -1.20120120e-02]\n",
      " [ 1.42247511e-03  7.89473684e-02 -1.52520942e-02]\n",
      " [-9.95732575e-03 -5.26315789e-02  5.12091038e-02]]\n"
     ]
    }
   ],
   "source": [
    "import numpy as np\n",
    "a=np.array([[41,8,12],[1,16,5],[9,18,27]])\n",
    "b=np.invert(a)\n",
    "c=np.linalg.inv(a)\n",
    "print(b)\n",
    "print(c)"
   ]
  },
  {
   "cell_type": "markdown",
   "metadata": {},
   "source": [
    "Clearly, the _np.invert()_ function gives a completely different result to _np.linalg.inv()_ ! Unfortunately, it is very easy to misremember this and strange results will occur if you think this is a matrix inversion. You may wish to look up what this function is!  \n"
   ]
  },
  {
   "cell_type": "code",
   "execution_count": 21,
   "metadata": {},
   "outputs": [
    {
     "name": "stdout",
     "output_type": "stream",
     "text": [
      "a = \n",
      "[[1.  0.2 3. ]\n",
      " [4.  5.  6. ]\n",
      " [7.  8.  9. ]]\n",
      "Transpose of a = \n",
      "[[1.  4.  7. ]\n",
      " [0.2 5.  8. ]\n",
      " [3.  6.  9. ]]\n",
      "b = \n",
      "[[4. 3. 2.]\n",
      " [6. 4. 2.]\n",
      " [9. 5. 1.]]\n",
      "matrix multiply a and b\n",
      "[[ 32.2  18.8   5.4]\n",
      " [100.   62.   24. ]\n",
      " [157.   98.   39. ]]\n",
      "The determinant of a is\n",
      "-10.800000000000004\n"
     ]
    }
   ],
   "source": [
    "import numpy as np\n",
    "a=np.array([[1., .2, 3.], [4., 5., 6.], [7., 8., 9.]])\n",
    "print(\"a = \")\n",
    "print(a)\n",
    "print(\"Transpose of a = \")\n",
    "print(np.transpose(a))\n",
    "b=np.array([[4.,3.,2.],[6.,4.,2.],[9.,5.,1.]])\n",
    "print(\"b = \")\n",
    "print(b)\n",
    "print (\"matrix multiply a and b\")\n",
    "print(np.matmul(a,b))\n",
    "print(\"The determinant of a is\")\n",
    "print(np.linalg.det(a))"
   ]
  },
  {
   "cell_type": "code",
   "execution_count": 22,
   "metadata": {},
   "outputs": [
    {
     "name": "stdout",
     "output_type": "stream",
     "text": [
      "a = \n",
      "[[4 2 3]\n",
      " [7 5 3]\n",
      " [1 8 6]]\n",
      "b = \n",
      "[[2]\n",
      " [3]\n",
      " [5]]\n",
      "matrix a x matrix b =\n",
      "[[29]\n",
      " [44]\n",
      " [56]]\n",
      "The inverse matrix of a is c =\n",
      "[[ 0.06060606  0.12121212 -0.09090909]\n",
      " [-0.39393939  0.21212121  0.09090909]\n",
      " [ 0.51515152 -0.3030303   0.06060606]]\n",
      "Let's check by multiplying a x c\n",
      "[[ 1.00000000e+00  5.55111512e-17 -1.38777878e-17]\n",
      " [-1.11022302e-16  1.00000000e+00  6.93889390e-17]\n",
      " [-2.22044605e-16  1.11022302e-16  1.00000000e+00]]\n"
     ]
    }
   ],
   "source": [
    "import numpy as np\n",
    "a=np.array([[4, 2, 3], [7, 5, 3], [1, 8, 6]])\n",
    "b=np.array([[2],[3],[5]])\n",
    "print(\"a = \")\n",
    "print(a)\n",
    "print(\"b = \")\n",
    "print(b)\n",
    "print(\"matrix a x matrix b =\")\n",
    "print(np.matmul(a,b))\n",
    "c=np.linalg.inv(a)\n",
    "print(\"The inverse matrix of a is c =\")\n",
    "print(c)\n",
    "print(\"Let's check by multiplying a x c\")\n",
    "d=np.matmul(a,c)\n",
    "print(d)"
   ]
  },
  {
   "cell_type": "markdown",
   "metadata": {},
   "source": [
    "## 9.4 Summary\n",
    "\n",
    "In this notebook you have learnt,\n",
    "\n",
    "- how to create and maniuplate 1D numpy arrays by direct use of the array index and by vectorisation,\n",
    "- how to slice, dice and append 1D arrays using numpy,\n",
    "- how to use 3 element 1D numpy arrays as vectors and to generate dot and cross products,\n",
    "- how to do statistical operations on 1D arrays, i.e. mean, standard deviation etc.,\n",
    "- how to create 2D (and higher dimensional arrays,\n",
    "- how to index higher dimensional arrays,\n",
    "- about the extension of vectorisation to higher dimensional arrays.\n",
    "- how numpy may be used to do basic matrix calculations. \n"
   ]
  }
 ],
 "metadata": {
  "kernelspec": {
   "display_name": "Python 3",
   "language": "python",
   "name": "python3"
  },
  "language_info": {
   "codemirror_mode": {
    "name": "ipython",
    "version": 3
   },
   "file_extension": ".py",
   "mimetype": "text/x-python",
   "name": "python",
   "nbconvert_exporter": "python",
   "pygments_lexer": "ipython3",
   "version": "3.8.11"
  }
 },
 "nbformat": 4,
 "nbformat_minor": 4
}