{
 "cells": [
  {
   "cell_type": "markdown",
   "metadata": {},
   "source": [
    "# 10. Input and output of data from python programmes.\n",
    "\n",
    "In the Jupyter notebooks you have used so far we have have written our 'input' data directly into the python code as variables. We have also restricted the output of the data from the programme directly to the screen by using the 'print' statement or graphically using the MathPlotLib library. In practise, we often need to import data to our programme from an externally stored computer file. For example, we may have collected data from an experiment in a datafile that we now wish to process. Similarly, and especially for programmes that take a long time to execute, we want to save data to computer files (so we don't need to keep running the programme) or so that it can be processed later using further python programmes or other applications (e.g. Excel, Origin etc.).\n",
    "\n",
    "In this notebook you will learn how to:\n",
    "\n",
    "- provide a prompt for a user to enter data into your programme,\n",
    "- read and write data to and from structured data text files using the Numpy library,\n",
    "- read and write data to and from structured binary (archive) format files using the Numpy library,\n",
    "- read and write arbitrary data to a text file as strings.\n",
    "\n",
    "## 10.1 Entering data in response to a prompt - the input statement.\n",
    "\n",
    "When writing programmes we often need to run the same programe using different input values. So far, in the jupyter notebooks we have achieved this by reassigning values to variables (normally at the beginning of the programme). This is not ideal, especially if you are writing the programme for someone else to run. To avoid this editing of code it is better to prompt the user for input and wait for them to type a response. To do this we use the python _input_ statement. For example,\n",
    "\n"
   ]
  },
  {
   "cell_type": "code",
   "execution_count": 1,
   "metadata": {},
   "outputs": [
    {
     "ename": "StdinNotImplementedError",
     "evalue": "raw_input was called, but this frontend does not support input requests.",
     "output_type": "error",
     "traceback": [
      "\u001b[0;31m---------------------------------------------------------------------------\u001b[0m",
      "\u001b[0;31mStdinNotImplementedError\u001b[0m                  Traceback (most recent call last)",
      "\u001b[0;32m/var/folders/lt/p1n6bb0j4_173x9548b473jh0000gn/T/ipykernel_15298/1391861167.py\u001b[0m in \u001b[0;36m<module>\u001b[0;34m\u001b[0m\n\u001b[0;32m----> 1\u001b[0;31m \u001b[0ma\u001b[0m\u001b[0;34m=\u001b[0m\u001b[0minput\u001b[0m\u001b[0;34m(\u001b[0m\u001b[0;34m\"Enter a number:\"\u001b[0m\u001b[0;34m)\u001b[0m\u001b[0;34m\u001b[0m\u001b[0;34m\u001b[0m\u001b[0m\n\u001b[0m\u001b[1;32m      2\u001b[0m \u001b[0mprint\u001b[0m\u001b[0;34m(\u001b[0m\u001b[0ma\u001b[0m\u001b[0;34m)\u001b[0m\u001b[0;34m\u001b[0m\u001b[0;34m\u001b[0m\u001b[0m\n",
      "\u001b[0;32m~/.pyenv/versions/3.8.11/lib/python3.8/site-packages/ipykernel/kernelbase.py\u001b[0m in \u001b[0;36mraw_input\u001b[0;34m(self, prompt)\u001b[0m\n\u001b[1;32m   1001\u001b[0m         \"\"\"\n\u001b[1;32m   1002\u001b[0m         \u001b[0;32mif\u001b[0m \u001b[0;32mnot\u001b[0m \u001b[0mself\u001b[0m\u001b[0;34m.\u001b[0m\u001b[0m_allow_stdin\u001b[0m\u001b[0;34m:\u001b[0m\u001b[0;34m\u001b[0m\u001b[0;34m\u001b[0m\u001b[0m\n\u001b[0;32m-> 1003\u001b[0;31m             raise StdinNotImplementedError(\n\u001b[0m\u001b[1;32m   1004\u001b[0m                 \u001b[0;34m\"raw_input was called, but this frontend does not support input requests.\"\u001b[0m\u001b[0;34m\u001b[0m\u001b[0;34m\u001b[0m\u001b[0m\n\u001b[1;32m   1005\u001b[0m             )\n",
      "\u001b[0;31mStdinNotImplementedError\u001b[0m: raw_input was called, but this frontend does not support input requests."
     ]
    }
   ],
   "source": [
    "a=input(\"Enter a number:\")\n",
    "print(a)"
   ]
  },
  {
   "cell_type": "markdown",
   "metadata": {},
   "source": [
    "A common problem is that the data entered is not of the type expected. For example, in the code above there is nothing to say that the user cannot enter a text string rather than a number. This might cause the programme to fail with an error, or worse, it may do an unexpected type conversion and not produce the correct results.\n",
    "\n",
    "To avoid these problems it is common to try and 'trap' errors with the input and ask the user to try again. To do this you need to check for any exceptions on the data input. In the example below, we are trying to read an integer number _b_. Provided the assignment of _b_ does not cause an error, there is no exception and the programme moves on to the code following the _while_ statement. However by using the _try_ ... _except_ statement we can check to see if the user has indeed entered an integer number. If the input line produces an error, for example the user entered a text string or a floating point number, then the programme will ask again until the correct type of input value is used."
   ]
  },
  {
   "cell_type": "code",
   "execution_count": null,
   "metadata": {},
   "outputs": [],
   "source": [
    "test=True\n",
    "while test :\n",
    "    try:\n",
    "        b=int(input(\"Enter an integer number\"))\n",
    "        test=False\n",
    "    except :\n",
    "        print(\"you need to enter a integer number!\")\n",
    "        test =True\n",
    "\n",
    "print(\"You entered  \",b)\n",
    "    "
   ]
  },
  {
   "cell_type": "markdown",
   "metadata": {},
   "source": [
    "In the example above, the programme will ask to re-input the data, whatever caused the error. If you wish you can check to see if a specific error (or errors) has (or have) been produced. If done carefully, this allows you to produce more useful advice for the user depending on the error produced. For example, in the code below we specifically check to see if the error produced was a _ValueError_ "
   ]
  },
  {
   "cell_type": "code",
   "execution_count": null,
   "metadata": {},
   "outputs": [],
   "source": [
    "test=True\n",
    "while test :\n",
    "    try:\n",
    "        c=int(input(\"Enter an integer number\"))\n",
    "        test=False\n",
    "    except ValueError:\n",
    "        print(\"you need to enter a integer number!\")\n",
    "        test =True\n",
    "\n",
    "print(\"You entered  \",c)"
   ]
  },
  {
   "cell_type": "markdown",
   "metadata": {},
   "source": [
    "You are allowed as many _except_ statements after the _try_ statement as you wish (much like the _elif_ line for the _if_ statement). This allows you to trap and act on different types of error. A final _else_ statement allows you to 'clean' up any errors that you didn't anticipate! \n",
    "\n",
    "You might note that the _try_ statement is not limited to checking input. You can include it anywhere in your code where you think an exception might be produced (for example an unwanted divide by zero error). \n",
    "\n",
    "We won't cover any more about using exceptions. If you are the only one using the code you might be happy to accept that your programme will crash if it comes across an error or, for example,  you enter text instead of a number. However, if you are expecting your code to be used by many people you will need to address these issues - users get very frustrated if a programme keeps crashing! "
   ]
  },
  {
   "cell_type": "markdown",
   "metadata": {},
   "source": [
    "## 10.2 Output simple data to a file from your programme.\n",
    "\n",
    "The Numpy library has some simple statements to conveniently save data in Numpy arrays to a data file. There are two kinds of file that can be produced: text files that are humanly readable and 'numpy' files in which the data is stored efficiently but in a way that is not humanly readable (binary files).\n",
    "\n",
    "### 10.2.1 Saving data as text files.\n",
    "\n",
    "The most convenient and simple way to save data from your program is to use the Numpy _savetxt_ or _save_ statements. \n",
    "\n",
    "With _savetxt_ you can save a Numpy 1D or 2D array to a named text file. The examples below show how this can be done. Note, it can be convenient to sometimes combine numpy arrays. In the example below the 1D arrays holding the _x_ and _y_ data have been combined into a single multicolumn 2D array with the Numpy _column.stack_ function. These files may conveniently be read into, for example, excel spreadsheets later.  \n"
   ]
  },
  {
   "cell_type": "code",
   "execution_count": null,
   "metadata": {},
   "outputs": [],
   "source": [
    "import numpy as np\n",
    "x=np.linspace(0,1,10)\n",
    "y=np.sin(x)\n",
    "xy=np.column_stack((x,y))\n",
    "a=np.array([[1,2,3],[3,4,5],[5,6,7]])\n",
    "np.savetxt(\"xdata.dat\",x)\n",
    "np.savetxt(\"ydata.dat\",y)\n",
    "np.savetxt(\"xydata.dat\",xy)\n",
    "np.savetxt(\"adata.dat\",a)"
   ]
  },
  {
   "cell_type": "markdown",
   "metadata": {},
   "source": [
    "Note that it is a good idea to give your files an extension, in this case, _dat_ that shows that they are text files containing data. You should be able to read these data files by clicking on the filename on the Jupyter server or using any text editor on your computer. You should keep these files as they will be used later to look at reading data from files.  You may wish to look up the Numpy _savetext_ statement as there are additional parameters that can be set if you wish to take more control over the formatting of the data in the file. \n",
    "\n",
    "### 10.2.2 Saving data as archive (binary) files. \n",
    "\n",
    "A disadvantage of saving data as text files is that the precision in the data saved (especially if you format it to be more readable) may be reduced. An alternative way to save the data is as a binary (archive) file which is encoded in a similar way to the memory in the programme. This is efficient in space and preserves precision, however, the data cannot be read in the same way as a text file. In Numpy, binary data may be saved using the _save_ statement or the _savez_ statement. The latter saves the data in a compressed format and also allows mulitple arrays to be stored in the same file. \n",
    "\n",
    "The following code shows examples of these statements."
   ]
  },
  {
   "cell_type": "code",
   "execution_count": null,
   "metadata": {},
   "outputs": [],
   "source": [
    "np.save(\"xdata\",x)\n",
    "np.save(\"ydata\",y)\n",
    "np.save(\"adata\",a)\n",
    "np.savez(\"xdata\",xvals=x)\n",
    "np.savez(\"ydata\",yvals=y)\n",
    "np.savez(\"adata\",xvals=x,yvals=y,xydata=xy,avals=a)"
   ]
  },
  {
   "cell_type": "markdown",
   "metadata": {},
   "source": [
    "We can see that there is a subtle difference between these functions. _save_ only allows a single 1D or 2D array to be saved whereas we can save multiple arrays using _savez_ .  Note that we haven't included an extension for the filenames in this case. Numpy will assign the defaults extension _.npy_ and _.npz_ for files saved with _save_ and _savez_ respectively. You will find that you cannot open these files on the Jupyter server. If you save them to your computer and open them with the a text editor (e.g. notepad) you will find they contain gobbledegook. Furthermore, if you edit them in a text editor you will corrupt the data. We will see how to read these files shortly.   \n",
    "\n",
    "## 10.3 Input data from a file into your programme.\n",
    "\n",
    "### 10.3.1 loading data stored as text. \n",
    "\n",
    "The code below shows how you can read the data we wrote to the files _xydata.dat_ and _adata.dat_ back into python arrays. (NB. They do not need to have the same variable name).  "
   ]
  },
  {
   "cell_type": "code",
   "execution_count": null,
   "metadata": {},
   "outputs": [],
   "source": [
    "data=np.loadtxt(\"xydata.dat\")\n",
    "print(data)\n",
    "data2=np.loadtxt(\"adata.dat\")\n",
    "print(data2)"
   ]
  },
  {
   "cell_type": "markdown",
   "metadata": {},
   "source": [
    "The datafiles do not have to be created using python. Provided the data in the file is ordered as an array it may be read using _loadtxt_ . By default python uses 'space delimited' data files. Data from other programmes (for example excel) may be stored in 'comma delimited' _csv_ data files (the numbers are separated by commas) or some other delimiter. In this case you will need to specifiy the delimiter used in the data file in your _loadtxt_ function. For example, if you have a _csv_ file named _test.csv_ the appropriate syntax to load the data is to use the keyword 'delimiter' i.e.,\n",
    "\n",
    "_data=np.loadtxt(\"test.csv\",delimiter=',')_\n",
    "\n",
    "### 10.3.2 loading data stored using the Numpy _save_ function\n",
    "\n",
    "Numpy provides a function that will read any array data stored in _npy_ files using the _save_ function. The syntax is straightforward. i.e.  "
   ]
  },
  {
   "cell_type": "code",
   "execution_count": null,
   "metadata": {},
   "outputs": [],
   "source": [
    "xyin=np.load(\"xdata.npy\")\n",
    "print (xyin)\n",
    "ain=np.load(\"adata.npy\")\n",
    "print(ain)"
   ]
  },
  {
   "cell_type": "markdown",
   "metadata": {},
   "source": [
    "Note you need to include the file extension in the load statement.\n",
    "\n",
    "### 10.3.3 load data stored using the Numpy _savez_ function.\n",
    "\n",
    "Reading data from the data stored in _npz_ using the Numpy _savez_ function uses the same Numpy load function. However, Numpy will assume that the data file will contain one or more arrays that may be of different sizes (provided you have used the _npz_ extension). To properly read the file we need to know the names of the arrays stored in the data file. If you created the file and know the names this is fine. However, if you don't know the names of the arrays you use the _keys_ method to recover the names. i.e.   "
   ]
  },
  {
   "cell_type": "code",
   "execution_count": null,
   "metadata": {},
   "outputs": [],
   "source": [
    "xdatin=np.load(\"xdata.npz\")\n",
    "print(xdatin)\n",
    "print(list(xdatin.keys()))\n",
    "alldata=np.load(\"adata.npz\")\n",
    "print(alldata)\n",
    "print (list(alldata.keys()))\n",
    "\n"
   ]
  },
  {
   "cell_type": "markdown",
   "metadata": {},
   "source": [
    "Note that the variables _xdatin_ and _alldata_ are not the original arrays but 'Npzfile' objects that contain the data. In our programme, to recover the original arrays as numpy arrays we use e.g. the following syntax. "
   ]
  },
  {
   "cell_type": "code",
   "execution_count": null,
   "metadata": {},
   "outputs": [],
   "source": [
    "x2 = alldata['xvals']   # recover the original xvals array to the array x2\n",
    "y2 = alldata['yvals']   # recover the original yvals array to the array x2\n",
    "xy2 =alldata['xydata']  # recover the original xydata array to the array xy2\n",
    "a2 = alldata['avals']   # recover the original avals array to the array a2\n",
    "#\n",
    "#   Print out some of the arrays to check.\n",
    "#\n",
    "print(a2)\n",
    "print(xy)"
   ]
  },
  {
   "cell_type": "markdown",
   "metadata": {},
   "source": [
    "Note, we don't need to use the original array names.\n",
    "\n",
    "\n",
    "## 10.4 Opening, reading, writing and closing more general text files.\n",
    "\n",
    "The Numpy functions described above for reading and saving data are very useful and simple to use. However, there are many times when you would like to write and read data to less structured files. For example, keeping a log of progress through your programme (i.e. similar to the print statements you'd use to write to the screen) or reading less structured data from another application. \n",
    "\n",
    "### 10.4.1 Writing arbitrary data to a file.\n",
    "\n",
    "If you are able to use and format _print_ statements to the screen then writing data to a file is similar. Firstly, you need to create and open a file that you may 'write' to. Once you have the file open you use a _myfile.write()_ statement (where _myfile_ is the object you've assigned to your file) to write data to the file. At the end make sure that you close the file. If your programme crashes while the file is open you may need to close it manually from the console.\n",
    "\n",
    "__Note__. The write statement allows a lot of flexibility in how the data is output but the argument to it must be a single string. The string needs to contain a placeholder {} at the point in the string at which the variable is to be output. The string should be followed by a '.format()' method that gives the variable for each placeholder. Further formatting in the way the variable is output can be included in the format method but we will not consider it here. \n",
    "\n",
    "Finally, you should add an '\\n' at the end of the string to make sure that the next write statement is on the next line.\n",
    "\n",
    "The example below should hopefully give you the idea.\n",
    "\n",
    "__Important__ If the file already exists then it will be overwritten. If you wish to append data to an existing file then change the \"w\" to and \"a\" in the _open_ statement. It is possible to check to see if a file exists before attempting to open a new one using a _try_ ... _except_ structure as we used above but this is beyond the scope of this course.\n",
    "\n",
    "You may wish to inspect the contents of the file 'test.dat' that should have been written to the same folder as this notebook. Note it is all in readable text."
   ]
  },
  {
   "cell_type": "code",
   "execution_count": null,
   "metadata": {},
   "outputs": [],
   "source": [
    "import numpy as np\n",
    "outfile=open(\"test.dat\",\"w\")\n",
    "outfile.write(\"This is where I've put my data\\n\")\n",
    "outfile.write(\"sin(pi/3) is {}\\n\".format(np.sin(np.pi/3.)))\n",
    "ang=np.pi/4.\n",
    "outfile.write(\" Angle             sin                cos                tan\\n\")\n",
    "outfile.write(\"{} {} {} {}\\n\".format(ang,np.sin(ang),np.cos(ang),np.tan(ang)))\n",
    "outfile.close()"
   ]
  },
  {
   "cell_type": "markdown",
   "metadata": {},
   "source": [
    "### 10.4.2 Reading data from an arbitary text file.\n",
    "\n",
    "Note this will only work for a file that contains 'normal' text data (i.e. one you can load and read in text editor). The principle is the reverse of what you do with writing a file. Firstly, the file must exist if you are to read data from it. Also make sure that your file is in the same folder as the python code or that you have specified the full  path fully in the open statement.\n",
    "\n",
    "Once the file is open you read the data line by line into string variable. \n",
    "\n",
    "What you do after you have read a line into your programme depends on what is in the data file and what you wish to do with it. Common things you may find, are lines of text that describe the data held in the file. This could be names of datasets, numbers of data points or any other relevant information. If these are not needed in your programme you ignore the line and read in the next line until you find the first line with the data you need. This may be as simple as skipping the first _n_ lines and then reading the data. \n",
    "\n",
    "Another common form is for the data to be written with 'comment' lines using, for example, the # symbol as the first character. In this case, after you have read a line you check to see if the first chracter is a # and if so, you ignore the line and move on.\n",
    "\n",
    "If you decide the line has valid data then you need to process the string file and convert the data to integer, float etc. variables in your code. \n",
    "\n",
    "The example below may help you understand the process for the array _xydata_ we saved above."
   ]
  },
  {
   "cell_type": "code",
   "execution_count": null,
   "metadata": {},
   "outputs": [],
   "source": [
    "infile = open(\"xydata.dat\")\n",
    "temp_data=[]\n",
    "for dummy in infile:\n",
    "    x, y = dummy.split(' ')\n",
    "    temp_data += [(float(x),float(y))]\n",
    "infile.close()\n",
    "print (temp_data)"
   ]
  },
  {
   "cell_type": "markdown",
   "metadata": {},
   "source": [
    "## 10.5 Summary\n",
    "\n",
    "In this notebook you have learnt about the difference between text and binary (archive) files and you should be able to:\n",
    "\n",
    "- write a programme that requests input from the user,\n",
    "- write a programme that can write Numpy arrays to simple text or binary format files,\n",
    "- write a programme that can read Numpy arrays that have been saved in files with the Numpy library,\n",
    "- write a programme the can write data into a text file as strings,\n",
    "- write a programme that can read arbitrary data from a textfile, line by line into strings for further processing. "
   ]
  }
 ],
 "metadata": {
  "kernelspec": {
   "display_name": "Python 3 (ipykernel)",
   "language": "python",
   "name": "python3"
  },
  "language_info": {
   "codemirror_mode": {
    "name": "ipython",
    "version": 3
   },
   "file_extension": ".py",
   "mimetype": "text/x-python",
   "name": "python",
   "nbconvert_exporter": "python",
   "pygments_lexer": "ipython3",
   "version": "3.8.11"
  }
 },
 "nbformat": 4,
 "nbformat_minor": 4
}